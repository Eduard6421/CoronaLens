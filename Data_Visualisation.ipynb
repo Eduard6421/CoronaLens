{
  "nbformat": 4,
  "nbformat_minor": 0,
  "metadata": {
    "colab": {
      "name": "Data Visualisation.ipynb",
      "provenance": [],
      "collapsed_sections": [],
      "toc_visible": true
    },
    "kernelspec": {
      "name": "python3",
      "display_name": "Python 3"
    },
    "language_info": {
      "name": "python"
    }
  },
  "cells": [
    {
      "cell_type": "markdown",
      "metadata": {
        "id": "znV6dLd1fXe2"
      },
      "source": [
        "this is good shit: https://www.kaggle.com/imdevskp/covid-19-analysis-visualization-comparisons"
      ]
    },
    {
      "cell_type": "markdown",
      "metadata": {
        "id": "ahZ6tK2pgbgx"
      },
      "source": [
        "this is gold: https://www.kaggle.com/gpreda/covid-19-romania-county-level"
      ]
    },
    {
      "cell_type": "code",
      "metadata": {
        "id": "m_PFV_IMWe9U",
        "colab": {
          "base_uri": "https://localhost:8080/"
        },
        "outputId": "56a6546d-1512-4f72-a785-76cea749effc"
      },
      "source": [
        "!pip install plotly==4.14.3\n",
        "!pip install unidecode"
      ],
      "execution_count": null,
      "outputs": [
        {
          "output_type": "stream",
          "text": [
            "Requirement already satisfied: plotly==4.14.3 in /usr/local/lib/python3.7/dist-packages (4.14.3)\n",
            "Requirement already satisfied: retrying>=1.3.3 in /usr/local/lib/python3.7/dist-packages (from plotly==4.14.3) (1.3.3)\n",
            "Requirement already satisfied: six in /usr/local/lib/python3.7/dist-packages (from plotly==4.14.3) (1.15.0)\n",
            "Collecting unidecode\n",
            "\u001b[?25l  Downloading https://files.pythonhosted.org/packages/9e/25/723487ca2a52ebcee88a34d7d1f5a4b80b793f179ee0f62d5371938dfa01/Unidecode-1.2.0-py2.py3-none-any.whl (241kB)\n",
            "\u001b[K     |████████████████████████████████| 245kB 5.9MB/s \n",
            "\u001b[?25hInstalling collected packages: unidecode\n",
            "Successfully installed unidecode-1.2.0\n"
          ],
          "name": "stdout"
        }
      ]
    },
    {
      "cell_type": "code",
      "metadata": {
        "id": "CIfYXzzAsQqa"
      },
      "source": [
        "import requests\n",
        "import os.path as path\n",
        "import pandas as pd\n",
        "import openpyxl\n",
        "import seaborn as sns\n",
        "import matplotlib.pyplot as plt\n",
        "import plotly.express as px\n",
        "import folium\n",
        "from unidecode import unidecode\n",
        "from folium.plugins import HeatMap, HeatMapWithTime"
      ],
      "execution_count": null,
      "outputs": []
    },
    {
      "cell_type": "code",
      "metadata": {
        "colab": {
          "base_uri": "https://localhost:8080/",
          "height": 54
        },
        "id": "HKtmusJBUpK2",
        "outputId": "dadcc979-145e-4986-8b5b-96e618ef2085"
      },
      "source": [
        "guvid = \"guvid.xlsx\"\n",
        "vaccin = \"vaccin.xlsx\"\n",
        "populatie =\"excel-populatie.xls\"\n",
        "\n",
        "def remove_anthet(fileName):\n",
        "  wb = openpyxl.load_workbook(fileName)\n",
        "  for spreadsheetName in wb.sheetnames:\n",
        "    sheet = wb[spreadsheetName]\n",
        "    sheet.delete_rows(sheet.min_row, 2)\n",
        "  wb.save(fileName)\n",
        "\n",
        "url_stats = 'https://data.gov.ro/dataset/b86a78a3-7f88-4b53-a94f-015082592466/resource/d0b60b45-fb08-4980-a34c-8cbb4a43cad3/download/transparenta_martie_2021.xlsx'\n",
        "url_vaccinuri = 'https://data.gov.ro/dataset/b86a78a3-7f88-4b53-a94f-015082592466/resource/bc19c354-644d-4a24-a26f-512129dbc70d/download/vaccinare-covid19-grupe-risc-01-25.03.2021.xlsx'\n",
        "if(not(path.exists(guvid))):  \n",
        "  r = requests.get(url_stats, allow_redirects=True)\n",
        "  open(guvid, 'wb').write(r.content)\n",
        "  remove_anthet(guvid)\n",
        "else:\n",
        "  print(\"guvid exists\")\n",
        "\n",
        "'''\n",
        "\n",
        "if(not(path.exists(vaccin))):  \n",
        "  r = requests.get(url_vaccinuri, allow_redirects=True)\n",
        "  open(vaccin, 'wb').write(r.content)\n",
        "else:\n",
        "  print(\"vaccin exists\")\n",
        "\n",
        "'''"
      ],
      "execution_count": null,
      "outputs": [
        {
          "output_type": "execute_result",
          "data": {
            "application/vnd.google.colaboratory.intrinsic+json": {
              "type": "string"
            },
            "text/plain": [
              "'\\n\\nif(not(path.exists(vaccin))):  \\n  r = requests.get(url_vaccinuri, allow_redirects=True)\\n  open(vaccin, \\'wb\\').write(r.content)\\nelse:\\n  print(\"vaccin exists\")\\n\\n'"
            ]
          },
          "metadata": {
            "tags": []
          },
          "execution_count": 135
        }
      ]
    },
    {
      "cell_type": "code",
      "metadata": {
        "colab": {
          "base_uri": "https://localhost:8080/"
        },
        "id": "t2J-aCvgZnKb",
        "outputId": "05e78c57-bb3d-45a4-9034-3e9589901750"
      },
      "source": [
        "df = px.data.stocks()\n",
        "print(df)"
      ],
      "execution_count": null,
      "outputs": [
        {
          "output_type": "stream",
          "text": [
            "           date      GOOG      AAPL      AMZN        FB      NFLX      MSFT\n",
            "0    2018-01-01  1.000000  1.000000  1.000000  1.000000  1.000000  1.000000\n",
            "1    2018-01-08  1.018172  1.011943  1.061881  0.959968  1.053526  1.015988\n",
            "2    2018-01-15  1.032008  1.019771  1.053240  0.970243  1.049860  1.020524\n",
            "3    2018-01-22  1.066783  0.980057  1.140676  1.016858  1.307681  1.066561\n",
            "4    2018-01-29  1.008773  0.917143  1.163374  1.018357  1.273537  1.040708\n",
            "..          ...       ...       ...       ...       ...       ...       ...\n",
            "100  2019-12-02  1.216280  1.546914  1.425061  1.075997  1.463641  1.720717\n",
            "101  2019-12-09  1.222821  1.572286  1.432660  1.038855  1.421496  1.752239\n",
            "102  2019-12-16  1.224418  1.596800  1.453455  1.104094  1.604362  1.784896\n",
            "103  2019-12-23  1.226504  1.656000  1.521226  1.113728  1.567170  1.802472\n",
            "104  2019-12-30  1.213014  1.678000  1.503360  1.098475  1.540883  1.788185\n",
            "\n",
            "[105 rows x 7 columns]\n"
          ],
          "name": "stdout"
        }
      ]
    },
    {
      "cell_type": "code",
      "metadata": {
        "id": "-NWY6m8bIxfu"
      },
      "source": [
        "# Reading covid transparency dataset\n",
        "excelDataCovid = pd.ExcelFile(guvid)\n",
        "dfIncidenta = excelDataCovid.parse('incidenta')\n",
        "dfTesteJudet = excelDataCovid.parse('teste_judet')\n",
        "dfTesteRapideJudet = excelDataCovid.parse('teste_rapide_judet')\n",
        "dfRataPozitivLaborator = excelDataCovid.parse('rata_pozitiv_laborator')\n",
        "dfTestareLaborator = excelDataCovid.parse('testare_laborator')\n",
        "dfDurataRecultareRezultat = excelDataCovid.parse('durata_recoltare_rezultat')\n",
        "dfReinfectareJudet = excelDataCovid.parse('reinfectare_judet')\n",
        "dfDecedateJudet = excelDataCovid.parse('decedati_judet')\n",
        "dfPersoaneSpital = excelDataCovid.parse('persoane_spital')\n",
        "dfPersoaneSpitalAti = excelDataCovid.parse('persoane_spital_ati')\n",
        "dfPersoanteSpitalAtiJudet = excelDataCovid.parse('persoane_spital_ati_judet')\n",
        "dfExternatiVindecatiSpital = excelDataCovid.parse('externati_vindecati_spital')\n",
        "dfExternatiVindecatiJudet = excelDataCovid.parse('externati_vindecati_judet')\n",
        "dfPopulatie = pd.read_excel(populatie)"
      ],
      "execution_count": null,
      "outputs": []
    },
    {
      "cell_type": "code",
      "metadata": {
        "id": "xyFC09tNv2GP"
      },
      "source": [
        "def diacritic_corect(nume):\n",
        "    newString = \"\"\n",
        "    for idx, litera in enumerate(nume):\n",
        "      if(litera == 'î'):\n",
        "        if(idx == 0 or( idx > 1 and nume[idx-1] == ' ')):\n",
        "          newString += nume[idx]\n",
        "        else:\n",
        "          newString += 'â'\n",
        "      else:\n",
        "          newString += nume[idx]\n",
        "    return newString"
      ],
      "execution_count": null,
      "outputs": []
    },
    {
      "cell_type": "code",
      "metadata": {
        "id": "YftzBWfQQMwr"
      },
      "source": [
        "population_dict = {\n",
        "    'rimetea' : 1126,\n",
        "    'saniob' : 2133,\n",
        "    'sanmihaiudecampie' : 1459,\n",
        "    'silivasudecampie' : \t872,\n",
        "    'valenidambovita' : 2754,\n",
        "    'varfuri' : 1842,\n",
        "    'barca' : 3689,\n",
        "    'gangiova' : 2478,\n",
        "    'radulesti' : 1358,\n",
        "    'acas' : 2827,\n",
        "    'barghis' : 2015\n",
        "}\n",
        "\n",
        "def name_parse(name):\n",
        "    new_name = name.lower()\n",
        "    new_name = diacritic_corect(new_name)\n",
        "    new_name = new_name.replace(\"-\",\" \")\n",
        "    new_name = new_name.replace(\" \",\"\")\n",
        "    return unidecode(new_name)\n",
        "\n",
        "def add_population_dict(df):\n",
        "  for index, row in df.iterrows():\n",
        "    locality = row['LOCALITATE']\n",
        "    population = row['POPULATIE']\n",
        "    if(locality == \"  ORAS INSURATEI\"):\n",
        "      print(name_parse(locality))\n",
        "    population_dict[name_parse(locality)] = population\n",
        "\n",
        "def convert_columns_to_rows(df):\n",
        "  static = df.columns[0:2]  \n",
        "  df1 = df.melt(id_vars=static, \n",
        "        var_name=\"data\", \n",
        "        value_name=\"incidenta\")\n",
        "  return df1\n",
        "\n",
        "def get_population(row):\n",
        "  if(name_parse(row['UAT']) == \"orasansuratei\"):\n",
        "    print(row['UAT'])\n",
        "  return population_dict[name_parse(row['UAT'])]\n",
        "\n",
        "def add_population_to_df(df):\n",
        "  print(df)\n",
        "  df['Populatie'] = df.apply (lambda row: get_population(row), axis=1)\n",
        "  return df"
      ],
      "execution_count": null,
      "outputs": []
    },
    {
      "cell_type": "code",
      "metadata": {
        "colab": {
          "base_uri": "https://localhost:8080/"
        },
        "id": "IDH_L0KPs6Pf",
        "outputId": "9a3a07ad-cdf8-4834-bd2a-71cbc16dc501"
      },
      "source": [
        "dfIncidentaWithDates = convert_columns_to_rows(dfIncidenta)\n",
        "add_population_dict(dfPopulatie)\n",
        "dfIncidentaWithDates = add_population_to_df(dfIncidentaWithDates)"
      ],
      "execution_count": null,
      "outputs": [
        {
          "output_type": "stream",
          "text": [
            "orasinsuratei\n",
            "               UAT                 Judet        data  incidenta\n",
            "0            ALBAC                  ALBA  2021-03-01   0.504286\n",
            "1      ALMAŞU MARE                  ALBA  2021-03-01   0.000000\n",
            "2         ARIEŞENI                  ALBA  2021-03-01   0.000000\n",
            "3      AVRAM IANCU                  ALBA  2021-03-01   0.000000\n",
            "4          BERGHIN                  ALBA  2021-03-01   2.608242\n",
            "...            ...                   ...         ...        ...\n",
            "86017     SECTOR 2  MUNICIPIUL BUCUREŞTI  2021-03-27   7.137052\n",
            "86018     SECTOR 3  MUNICIPIUL BUCUREŞTI  2021-03-27   5.865786\n",
            "86019     SECTOR 4  MUNICIPIUL BUCUREŞTI  2021-03-27   7.113016\n",
            "86020     SECTOR 5  MUNICIPIUL BUCUREŞTI  2021-03-27   6.374706\n",
            "86021     SECTOR 6  MUNICIPIUL BUCUREŞTI  2021-03-27   7.488193\n",
            "\n",
            "[86022 rows x 4 columns]\n"
          ],
          "name": "stdout"
        }
      ]
    },
    {
      "cell_type": "code",
      "metadata": {
        "colab": {
          "base_uri": "https://localhost:8080/",
          "height": 423
        },
        "id": "8D6KFkOjtOgs",
        "outputId": "bf0c4dfa-5a9d-4f00-8cfa-aeddb568d1f8"
      },
      "source": [
        "dfIncidentaWithDates"
      ],
      "execution_count": null,
      "outputs": [
        {
          "output_type": "execute_result",
          "data": {
            "text/html": [
              "<div>\n",
              "<style scoped>\n",
              "    .dataframe tbody tr th:only-of-type {\n",
              "        vertical-align: middle;\n",
              "    }\n",
              "\n",
              "    .dataframe tbody tr th {\n",
              "        vertical-align: top;\n",
              "    }\n",
              "\n",
              "    .dataframe thead th {\n",
              "        text-align: right;\n",
              "    }\n",
              "</style>\n",
              "<table border=\"1\" class=\"dataframe\">\n",
              "  <thead>\n",
              "    <tr style=\"text-align: right;\">\n",
              "      <th></th>\n",
              "      <th>UAT</th>\n",
              "      <th>Judet</th>\n",
              "      <th>data</th>\n",
              "      <th>incidenta</th>\n",
              "      <th>Populatie</th>\n",
              "    </tr>\n",
              "  </thead>\n",
              "  <tbody>\n",
              "    <tr>\n",
              "      <th>0</th>\n",
              "      <td>ALBAC</td>\n",
              "      <td>ALBA</td>\n",
              "      <td>2021-03-01</td>\n",
              "      <td>0.504286</td>\n",
              "      <td>2089</td>\n",
              "    </tr>\n",
              "    <tr>\n",
              "      <th>1</th>\n",
              "      <td>ALMAŞU MARE</td>\n",
              "      <td>ALBA</td>\n",
              "      <td>2021-03-01</td>\n",
              "      <td>0.000000</td>\n",
              "      <td>1289</td>\n",
              "    </tr>\n",
              "    <tr>\n",
              "      <th>2</th>\n",
              "      <td>ARIEŞENI</td>\n",
              "      <td>ALBA</td>\n",
              "      <td>2021-03-01</td>\n",
              "      <td>0.000000</td>\n",
              "      <td>1765</td>\n",
              "    </tr>\n",
              "    <tr>\n",
              "      <th>3</th>\n",
              "      <td>AVRAM IANCU</td>\n",
              "      <td>ALBA</td>\n",
              "      <td>2021-03-01</td>\n",
              "      <td>0.000000</td>\n",
              "      <td>3316</td>\n",
              "    </tr>\n",
              "    <tr>\n",
              "      <th>4</th>\n",
              "      <td>BERGHIN</td>\n",
              "      <td>ALBA</td>\n",
              "      <td>2021-03-01</td>\n",
              "      <td>2.608242</td>\n",
              "      <td>1893</td>\n",
              "    </tr>\n",
              "    <tr>\n",
              "      <th>...</th>\n",
              "      <td>...</td>\n",
              "      <td>...</td>\n",
              "      <td>...</td>\n",
              "      <td>...</td>\n",
              "      <td>...</td>\n",
              "    </tr>\n",
              "    <tr>\n",
              "      <th>86017</th>\n",
              "      <td>SECTOR 2</td>\n",
              "      <td>MUNICIPIUL BUCUREŞTI</td>\n",
              "      <td>2021-03-27</td>\n",
              "      <td>7.137052</td>\n",
              "      <td>345370</td>\n",
              "    </tr>\n",
              "    <tr>\n",
              "      <th>86018</th>\n",
              "      <td>SECTOR 3</td>\n",
              "      <td>MUNICIPIUL BUCUREŞTI</td>\n",
              "      <td>2021-03-27</td>\n",
              "      <td>5.865786</td>\n",
              "      <td>385439</td>\n",
              "    </tr>\n",
              "    <tr>\n",
              "      <th>86019</th>\n",
              "      <td>SECTOR 4</td>\n",
              "      <td>MUNICIPIUL BUCUREŞTI</td>\n",
              "      <td>2021-03-27</td>\n",
              "      <td>7.113016</td>\n",
              "      <td>287828</td>\n",
              "    </tr>\n",
              "    <tr>\n",
              "      <th>86020</th>\n",
              "      <td>SECTOR 5</td>\n",
              "      <td>MUNICIPIUL BUCUREŞTI</td>\n",
              "      <td>2021-03-27</td>\n",
              "      <td>6.374706</td>\n",
              "      <td>271575</td>\n",
              "    </tr>\n",
              "    <tr>\n",
              "      <th>86021</th>\n",
              "      <td>SECTOR 6</td>\n",
              "      <td>MUNICIPIUL BUCUREŞTI</td>\n",
              "      <td>2021-03-27</td>\n",
              "      <td>7.488193</td>\n",
              "      <td>367760</td>\n",
              "    </tr>\n",
              "  </tbody>\n",
              "</table>\n",
              "<p>86022 rows × 5 columns</p>\n",
              "</div>"
            ],
            "text/plain": [
              "               UAT                 Judet        data  incidenta  Populatie\n",
              "0            ALBAC                  ALBA  2021-03-01   0.504286       2089\n",
              "1      ALMAŞU MARE                  ALBA  2021-03-01   0.000000       1289\n",
              "2         ARIEŞENI                  ALBA  2021-03-01   0.000000       1765\n",
              "3      AVRAM IANCU                  ALBA  2021-03-01   0.000000       3316\n",
              "4          BERGHIN                  ALBA  2021-03-01   2.608242       1893\n",
              "...            ...                   ...         ...        ...        ...\n",
              "86017     SECTOR 2  MUNICIPIUL BUCUREŞTI  2021-03-27   7.137052     345370\n",
              "86018     SECTOR 3  MUNICIPIUL BUCUREŞTI  2021-03-27   5.865786     385439\n",
              "86019     SECTOR 4  MUNICIPIUL BUCUREŞTI  2021-03-27   7.113016     287828\n",
              "86020     SECTOR 5  MUNICIPIUL BUCUREŞTI  2021-03-27   6.374706     271575\n",
              "86021     SECTOR 6  MUNICIPIUL BUCUREŞTI  2021-03-27   7.488193     367760\n",
              "\n",
              "[86022 rows x 5 columns]"
            ]
          },
          "metadata": {
            "tags": []
          },
          "execution_count": 260
        }
      ]
    },
    {
      "cell_type": "code",
      "metadata": {
        "colab": {
          "base_uri": "https://localhost:8080/"
        },
        "id": "0jL5YTaQpnoV",
        "outputId": "24badd44-bfac-4a95-e189-9bcff90a8e2a"
      },
      "source": [
        "#add_population_to_df(dfIncidenta)\n",
        "print(dfIncidenta.columns)\n",
        "#print(population_dict)"
      ],
      "execution_count": null,
      "outputs": [
        {
          "output_type": "stream",
          "text": [
            "Index(['UAT', 'Judet', 'data', 'incidenta'], dtype='object')\n"
          ],
          "name": "stdout"
        }
      ]
    },
    {
      "cell_type": "code",
      "metadata": {
        "id": "6aY0kXOLKN5R"
      },
      "source": [
        "# Reading vaccine transparency dataset\n",
        "excelDataVaccine = pd.ExcelFile(vaccin)\n",
        "vaccineDf = excelDataVaccine.parse('ag-grid')"
      ],
      "execution_count": null,
      "outputs": []
    },
    {
      "cell_type": "code",
      "metadata": {
        "id": "anwg8kU5KN7p"
      },
      "source": [
        ""
      ],
      "execution_count": null,
      "outputs": []
    },
    {
      "cell_type": "code",
      "metadata": {
        "id": "2ZBzXfqlYfND"
      },
      "source": [
        "\n",
        "#grafic incidenta (bars), interactiv pe judet / comuna, sortare judete interactiv"
      ],
      "execution_count": null,
      "outputs": []
    },
    {
      "cell_type": "code",
      "metadata": {
        "id": "5qflLJ8mYrbv"
      },
      "source": [
        "#total teste / judet, interactiv pe zi, combinat PCR + rapide, sortare judete interactiv"
      ],
      "execution_count": null,
      "outputs": []
    },
    {
      "cell_type": "code",
      "metadata": {
        "id": "gVgjKxgqZGIi"
      },
      "source": [
        "#raport pozitivare / judet, interactiv pe zi, culori diferite in functie de valoare, sortare judete interactiv"
      ],
      "execution_count": null,
      "outputs": []
    },
    {
      "cell_type": "code",
      "metadata": {
        "id": "63KNUdP0Zcfq"
      },
      "source": [
        "#decese / judet, interactiv pe zi, sortare judete interactiv"
      ],
      "execution_count": null,
      "outputs": []
    },
    {
      "cell_type": "code",
      "metadata": {
        "id": "vpKP0x9aZ5pZ"
      },
      "source": [
        "#pers spitalizate / judet, interactiv pe zi (same + ATI)"
      ],
      "execution_count": null,
      "outputs": []
    },
    {
      "cell_type": "code",
      "metadata": {
        "id": "nOGlQpk4a8fb"
      },
      "source": [
        "#extragere numar maxim de locuri per spital (same + ATI)"
      ],
      "execution_count": null,
      "outputs": []
    },
    {
      "cell_type": "code",
      "metadata": {
        "id": "EKyZki9CbTcN"
      },
      "source": [
        "#vindecari / judet sau spital / zi"
      ],
      "execution_count": null,
      "outputs": []
    },
    {
      "cell_type": "code",
      "metadata": {
        "id": "oobHcLpIbZKE"
      },
      "source": [
        "#grafic cu toate judetele, evolutia"
      ],
      "execution_count": null,
      "outputs": []
    },
    {
      "cell_type": "code",
      "metadata": {
        "id": "wFhUqM2idZ16"
      },
      "source": [
        "#rata mortalitatii"
      ],
      "execution_count": null,
      "outputs": []
    },
    {
      "cell_type": "code",
      "metadata": {
        "id": "yzsVHzSLePC8"
      },
      "source": [
        "#grafic cu decese, cazuri active, vindecari combinat"
      ],
      "execution_count": null,
      "outputs": []
    },
    {
      "cell_type": "code",
      "metadata": {
        "id": "4SHrs7H3eqdB"
      },
      "source": [
        "#treemap judete"
      ],
      "execution_count": null,
      "outputs": []
    },
    {
      "cell_type": "code",
      "metadata": {
        "id": "sE1gM5aJetFE"
      },
      "source": [
        "#nr infectari / pop totala"
      ],
      "execution_count": null,
      "outputs": []
    }
  ]
}